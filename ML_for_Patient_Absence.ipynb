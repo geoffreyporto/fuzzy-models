{
  "nbformat": 4,
  "nbformat_minor": 0,
  "metadata": {
    "colab": {
      "provenance": []
    },
    "kernelspec": {
      "name": "python3",
      "display_name": "Python 3"
    },
    "language_info": {
      "name": "python"
    }
  },
  "cells": [
    {
      "cell_type": "markdown",
      "source": [
        "Author: Geoffrey Porto - https://www.linkedin.com/in/geoffreyporto/"
      ],
      "metadata": {
        "id": "oCexpq9T6qha"
      }
    },
    {
      "cell_type": "code",
      "source": [
        "!pip install scikit-fuzzy"
      ],
      "metadata": {
        "colab": {
          "base_uri": "https://localhost:8080/"
        },
        "id": "MKDFQuH57Y2d",
        "outputId": "9b65b35d-7ab2-4746-9e4e-e8bdb0aac8c8"
      },
      "execution_count": null,
      "outputs": [
        {
          "output_type": "stream",
          "name": "stdout",
          "text": [
            "Requirement already satisfied: scikit-fuzzy in /usr/local/lib/python3.10/dist-packages (0.4.2)\n",
            "Requirement already satisfied: numpy>=1.6.0 in /usr/local/lib/python3.10/dist-packages (from scikit-fuzzy) (1.25.2)\n",
            "Requirement already satisfied: scipy>=0.9.0 in /usr/local/lib/python3.10/dist-packages (from scikit-fuzzy) (1.11.4)\n",
            "Requirement already satisfied: networkx>=1.9.0 in /usr/local/lib/python3.10/dist-packages (from scikit-fuzzy) (3.2.1)\n"
          ]
        }
      ]
    },
    {
      "cell_type": "code",
      "execution_count": null,
      "metadata": {
        "id": "vEiNB0cL6iCy"
      },
      "outputs": [],
      "source": [
        "import os\n",
        "import numpy as np\n",
        "import skfuzzy as fuzz\n",
        "from skfuzzy import control as ctrl\n",
        "import pandas as pd\n",
        "from sklearn.model_selection import train_test_split\n",
        "from sklearn.metrics import accuracy_score"
      ]
    },
    {
      "cell_type": "code",
      "source": [
        "import logging\n",
        "\n",
        "logging.basicConfig(level=logging.DEBUG)\n",
        "logger = logging.getLogger(__name__)"
      ],
      "metadata": {
        "id": "tIJCiXIIdgmO"
      },
      "execution_count": null,
      "outputs": []
    },
    {
      "cell_type": "markdown",
      "source": [
        "## Clases de Wrapper\n",
        "Criamos uma classe wrapper que encapsule o sistema de controle difuso e implemente os métodos fit e predict de acordo com a API do scikit-learn.\n",
        "\n",
        "O bloco try-except no método predict captura exceções ValueError e TypeError. Quando ocorre um erro durante a computação do sistema de controle difuso, um valor padrão de 0 é atribuído à previsão.\n",
        "\n",
        "Podemos ajustar o valor padrão (0) de acordo com o seu caso específico. Além disso,podemos adicionar mensagens de log ou depuração para identificar os casos em que a computação do sistema de controle difuso está falhando.\n",
        "\n",
        "Lembremos de revisar cuidadosamente a definição das variáveis de entrada, funções de pertinência e regras do seu sistema de controle difuso para garantir que estejam corretas e consistentes."
      ],
      "metadata": {
        "id": "yHXlvvT9f0ka"
      }
    },
    {
      "cell_type": "code",
      "source": [
        "from sklearn.base import BaseEstimator, ClassifierMixin\n",
        "class FuzzyControlSystemWrapper(BaseEstimator, ClassifierMixin):\n",
        "    def __init__(self, control_system, idade_jovem_mean=20, idade_jovem_std=5,\n",
        "                 idade_meia_idade_mean=40, idade_meia_idade_std=5):\n",
        "        self.control_system = control_system\n",
        "        self.sim = ctrl.ControlSystemSimulation(control_system)\n",
        "\n",
        "        self.idade_jovem_mean = idade_jovem_mean\n",
        "        self.idade_jovem_std = idade_jovem_std\n",
        "        self.idade_meia_idade_mean = idade_meia_idade_mean\n",
        "        self.idade_meia_idade_std = idade_meia_idade_std\n",
        "\n",
        "        # Atualizar as funções de pertinência com os parâmetros fornecidos\n",
        "        idade['Jovem'] = fuzz.gaussmf(idade.universe, self.idade_jovem_mean, self.idade_jovem_std)\n",
        "        idade['Meia-idade'] = fuzz.gaussmf(idade.universe, self.idade_meia_idade_mean, self.idade_meia_idade_std)\n",
        "\n",
        "    def fit(self, X, y=None):\n",
        "        return self\n",
        "\n",
        "    def predict(self, X):\n",
        "        previsoes = []\n",
        "        for index, row in X.iterrows():\n",
        "            self.sim.input['Idade'] = row['Idade']\n",
        "            self.sim.input['Gravidade'] = row['Gravidade']\n",
        "            self.sim.input['Renda'] = row['Renda']\n",
        "            self.sim.input['Distancia'] = row['Distancia']\n",
        "            self.sim.input['Frequencia'] = row['Frequencia']\n",
        "\n",
        "            try:\n",
        "                self.sim.compute()\n",
        "                previsoes.append(self.sim.output['Risco'])\n",
        "            except (ValueError, TypeError) as e:\n",
        "                logger.error(f\"Falha na computação do sistema de controle difuso para a linha {index}\")\n",
        "                logger.error(f\"Valores de entrada: {row}\")\n",
        "                logger.error(f\"Mensagem de erro: {str(e)}\")\n",
        "                previsoes.append(0)  # Valor padrão para falha na computação\n",
        "\n",
        "        limite = 7\n",
        "        previsoes_rotulos = ['Alto' if x >= limite else 'Baixo' for x in previsoes]\n",
        "        return previsoes_rotulos\n"
      ],
      "metadata": {
        "id": "MtKH-1_FZrCe"
      },
      "execution_count": null,
      "outputs": []
    },
    {
      "cell_type": "markdown",
      "source": [
        "##Pré-processamento dos dados\n",
        "Realize a normalização ou o escalonamento dos dados de entrada para garantir que estejam na mesma escala e evitar a dominância de certas variáveis.\n",
        "Lide com outliers e valores discrepantes que possam afetar o desempenho do modelo."
      ],
      "metadata": {
        "id": "eMaxyw3zTRkU"
      }
    },
    {
      "cell_type": "code",
      "source": [
        "# Exemplo de normalização dos dados\n",
        "from sklearn.preprocessing import MinMaxScaler\n",
        "\n",
        "scaler = MinMaxScaler()\n",
        "X_scaled = scaler.fit_transform(X)"
      ],
      "metadata": {
        "id": "EZImdUFKTJ_W"
      },
      "execution_count": null,
      "outputs": []
    },
    {
      "cell_type": "code",
      "source": [],
      "metadata": {
        "id": "_fQ8DOt-TQ9_"
      },
      "execution_count": null,
      "outputs": []
    },
    {
      "cell_type": "markdown",
      "source": [
        "\n",
        "Google Drive\n",
        "\n",
        "**Dataset**\n",
        "\n",
        "- Idade: A idade do paciente em anos\n",
        "- Gravidade: A gravidade da condição do paciente (Leve, Moderada ou Grave).\n",
        "- Renda: A renda mensal do paciente em reais.\n",
        "- Distancia: A distância em quilômetros entre a residência do paciente e o hospital.\n",
        "- Frequencia: A frequência do paciente às consultas agendadas, expressa em porcentagem.\n",
        "- Risco: O risco de absenteísmo do paciente (Baixo, Medio ou Alto).\n",
        "\n",
        "```\n",
        "# Esto tiene formato de código\n",
        "```\n",
        "\n"
      ],
      "metadata": {
        "id": "dULU0wwc6rtu"
      }
    },
    {
      "cell_type": "code",
      "source": [
        "from google.colab import drive\n",
        "from google.colab import files  #biblioteca utilizada para carregar os dados para o google colab\n",
        "drive.mount('/content/drive')"
      ],
      "metadata": {
        "colab": {
          "base_uri": "https://localhost:8080/"
        },
        "id": "RLvjnRlr6sF4",
        "outputId": "43c5edcd-f54f-4d93-d11a-b788a382cbc2"
      },
      "execution_count": null,
      "outputs": [
        {
          "output_type": "stream",
          "name": "stdout",
          "text": [
            "Drive already mounted at /content/drive; to attempt to forcibly remount, call drive.mount(\"/content/drive\", force_remount=True).\n"
          ]
        }
      ]
    },
    {
      "cell_type": "code",
      "source": [
        "#Carpeta base\n",
        "base_path = '/content/drive/MyDrive/Colab Notebooks/Datasets/Health/'\n",
        "\n",
        "#Base de dados completo\n",
        "data_patients = base_path+'/Patients/'\n",
        "\n",
        "\n",
        "os.listdir(data_patients)"
      ],
      "metadata": {
        "colab": {
          "base_uri": "https://localhost:8080/"
        },
        "id": "TT6Ym6EA7n-v",
        "outputId": "f970110b-177a-4cc8-c365-ea055ccdb747"
      },
      "execution_count": null,
      "outputs": [
        {
          "output_type": "execute_result",
          "data": {
            "text/plain": [
              "['patients.csv', 'processed_patients.csv', 'patients_complex.gsheet']"
            ]
          },
          "metadata": {},
          "execution_count": 6
        }
      ]
    },
    {
      "cell_type": "code",
      "source": [
        "# Carregar dados de um arquivo CSV\n",
        "#dados = pd.read_csv(data_patients+'patients.csv', delimiter=',', engine='pyarrow')\n",
        "dados = pd.read_csv(data_patients+'patients.csv', delimiter=',', engine='pyarrow')\n",
        "print(dados.head())\n",
        "print(dados.columns)"
      ],
      "metadata": {
        "colab": {
          "base_uri": "https://localhost:8080/"
        },
        "id": "wgCqVgND8cVA",
        "outputId": "21b8a850-2ae2-43db-a8c9-4b1dffe86fd8"
      },
      "execution_count": null,
      "outputs": [
        {
          "output_type": "stream",
          "name": "stdout",
          "text": [
            "   Idade Gravidade  Renda  Distancia  Frequencia  Risco\n",
            "0     32      Leve  45000        5.2          95  Baixo\n",
            "1     68     Grave  18000       12.8          60   Alto\n",
            "2     25  Moderada  32000        2.1          85  Baixo\n",
            "3     54  Moderada  28000        8.9          70  Medio\n",
            "4     42      Leve  56000        3.7          90  Baixo\n",
            "Index(['Idade', 'Gravidade', 'Renda', 'Distancia', 'Frequencia', 'Risco'], dtype='object')\n"
          ]
        }
      ]
    },
    {
      "cell_type": "code",
      "source": [
        "\n",
        "# Verificar se o DataFrame 'dados' está vazio\n",
        "if dados.empty:\n",
        "    print(\"O DataFrame 'dados' está vazio. Verifique o arquivo CSV.\")\n",
        "    exit()\n",
        "\n",
        "# Verificar se as colunas necessárias estão presentes no DataFrame 'dados'\n",
        "colunas_necessarias = ['Idade', 'Gravidade', 'Renda', 'Distancia', 'Frequencia', 'Risco']\n",
        "if not all(col in dados.columns for col in colunas_necessarias):\n",
        "    print(\"Uma ou mais colunas necessárias estão ausentes no DataFrame 'dados'.\")\n",
        "    exit()\n",
        "\n",
        "# Dividir os dados em conjuntos de treinamento e teste\n",
        "X = dados[['Idade', 'Gravidade', 'Renda', 'Distancia', 'Frequencia']]\n",
        "y = dados['Risco']\n",
        "print(X.shape)\n",
        "print(y.shape)\n",
        "print(X.head())\n",
        "print(y.head())"
      ],
      "metadata": {
        "colab": {
          "base_uri": "https://localhost:8080/"
        },
        "id": "k2pqNBV1Mi_2",
        "outputId": "a246d3fc-eef2-4d64-d59b-481a4ff014ce"
      },
      "execution_count": null,
      "outputs": [
        {
          "output_type": "stream",
          "name": "stdout",
          "text": [
            "(20, 5)\n",
            "(20,)\n",
            "   Idade Gravidade  Renda  Distancia  Frequencia\n",
            "0     32      Leve  45000        5.2          95\n",
            "1     68     Grave  18000       12.8          60\n",
            "2     25  Moderada  32000        2.1          85\n",
            "3     54  Moderada  28000        8.9          70\n",
            "4     42      Leve  56000        3.7          90\n",
            "0    Baixo\n",
            "1     Alto\n",
            "2    Baixo\n",
            "3    Medio\n",
            "4    Baixo\n",
            "Name: Risco, dtype: object\n"
          ]
        }
      ]
    },
    {
      "cell_type": "code",
      "source": [
        "print(\"Idade:\", dados['Idade'])\n",
        "print(\"Gravidade:\", dados['Gravidade'])\n",
        "print(\"Renda:\", dados['Renda'])\n",
        "print(\"Distancia:\", dados['Distancia'])\n",
        "print(\"Frequencia:\", dados['Frequencia'])"
      ],
      "metadata": {
        "colab": {
          "base_uri": "https://localhost:8080/"
        },
        "id": "acjrckwz-w6P",
        "outputId": "4dcba681-153f-47ca-9fb6-5d3ed836fe0b"
      },
      "execution_count": null,
      "outputs": [
        {
          "output_type": "stream",
          "name": "stdout",
          "text": [
            "Idade: 0     32\n",
            "1     68\n",
            "2     25\n",
            "3     54\n",
            "4     42\n",
            "5     78\n",
            "6     37\n",
            "7     61\n",
            "8     29\n",
            "9     50\n",
            "10    71\n",
            "11    46\n",
            "12    58\n",
            "13    39\n",
            "14    64\n",
            "15    33\n",
            "16    52\n",
            "17    75\n",
            "18    28\n",
            "19    44\n",
            "Name: Idade, dtype: int64\n",
            "Gravidade: 0         Leve\n",
            "1        Grave\n",
            "2     Moderada\n",
            "3     Moderada\n",
            "4         Leve\n",
            "5        Grave\n",
            "6         Leve\n",
            "7        Grave\n",
            "8         Leve\n",
            "9     Moderada\n",
            "10       Grave\n",
            "11        Leve\n",
            "12    Moderada\n",
            "13        Leve\n",
            "14       Grave\n",
            "15        Leve\n",
            "16    Moderada\n",
            "17       Grave\n",
            "18        Leve\n",
            "19    Moderada\n",
            "Name: Gravidade, dtype: object\n",
            "Renda: 0     45000\n",
            "1     18000\n",
            "2     32000\n",
            "3     28000\n",
            "4     56000\n",
            "5     12000\n",
            "6     62000\n",
            "7     22000\n",
            "8     39000\n",
            "9     48000\n",
            "10    16000\n",
            "11    58000\n",
            "12    31000\n",
            "13    51000\n",
            "14    20000\n",
            "15    47000\n",
            "16    36000\n",
            "17    14000\n",
            "18    40000\n",
            "19    53000\n",
            "Name: Renda, dtype: int64\n",
            "Distancia: 0      5.2\n",
            "1     12.8\n",
            "2      2.1\n",
            "3      8.9\n",
            "4      3.7\n",
            "5     15.6\n",
            "6      6.4\n",
            "7     10.3\n",
            "8      1.8\n",
            "9      7.1\n",
            "10    13.5\n",
            "11     4.9\n",
            "12     9.6\n",
            "13     2.5\n",
            "14    11.2\n",
            "15     4.3\n",
            "16     6.8\n",
            "17    14.1\n",
            "18     1.5\n",
            "19     5.7\n",
            "Name: Distancia, dtype: float64\n",
            "Frequencia: 0     95\n",
            "1     60\n",
            "2     85\n",
            "3     70\n",
            "4     90\n",
            "5     50\n",
            "6     80\n",
            "7     65\n",
            "8     92\n",
            "9     78\n",
            "10    55\n",
            "11    88\n",
            "12    72\n",
            "13    94\n",
            "14    62\n",
            "15    91\n",
            "16    76\n",
            "17    52\n",
            "18    96\n",
            "19    82\n",
            "Name: Frequencia, dtype: int64\n"
          ]
        }
      ]
    },
    {
      "cell_type": "code",
      "source": [
        "\n",
        "# Pré-processar os dados\n",
        "dados = dados.dropna()  # Remover registros com valores ausentes\n",
        "dados['Gravidade'] = dados['Gravidade'].map({'Leve': 1, 'Moderada': 2, 'Grave': 3})\n",
        "dados['Distancia'] = dados['Distancia'] / dados['Distancia'].max()  # Normalizar a distância\n",
        "\n",
        "# Definir variáveis de entrada e saída\n",
        "idade = ctrl.Antecedent(np.arange(0, 101, 1), 'Idade')\n",
        "gravidade = ctrl.Antecedent(np.arange(1, 4, 1), 'Gravidade')\n",
        "renda = ctrl.Antecedent(np.arange(0, 100001, 1), 'Renda')\n",
        "distancia = ctrl.Antecedent(np.arange(0, 1.1, 0.1), 'Distancia')\n",
        "frequencia = ctrl.Antecedent(np.arange(0, 101, 1), 'Frequencia')\n",
        "risco = ctrl.Consequent(np.arange(0, 11, 1), 'Risco')\n",
        "\n",
        "# Definir funções de pertinência difusas para cobrir melhor o espaço de entrada\n",
        "\n",
        "# Ajustar as funções de pertinência\n",
        "idade['Jovem'] = fuzz.trapmf(idade.universe, [0, 0, 25, 35])\n",
        "idade['Meia-idade'] = fuzz.trapmf(idade.universe, [30, 40, 50, 60])\n",
        "idade['Idoso'] = fuzz.trapmf(idade.universe, [55, 65, 100, 100])\n",
        "\n",
        "gravidade['Leve'] = fuzz.trapmf(gravidade.universe, [1, 1, 1, 2])\n",
        "gravidade['Moderada'] = fuzz.trapmf(gravidade.universe, [1, 2, 2, 3])\n",
        "gravidade['Grave'] = fuzz.trapmf(gravidade.universe, [2, 3, 3, 3])\n",
        "\n",
        "renda['Baixa'] = fuzz.trapmf(renda.universe, [0, 0, 20000, 30000])\n",
        "renda['Media'] = fuzz.trapmf(renda.universe, [20000, 30000, 50000, 60000])\n",
        "renda['Alta'] = fuzz.trapmf(renda.universe, [50000, 60000, 100000, 100000])\n",
        "\n",
        "distancia['Perto'] = fuzz.trapmf(distancia.universe, [0, 0, 0.3, 0.5])\n",
        "distancia['Media'] = fuzz.trapmf(distancia.universe, [0.3, 0.5, 0.7, 0.9])\n",
        "distancia['Longe'] = fuzz.trapmf(distancia.universe, [0.7, 0.9, 1, 1])\n",
        "\n",
        "frequencia['Boa'] = fuzz.trapmf(frequencia.universe, [70, 90, 100, 100])\n",
        "frequencia['Regular'] = fuzz.trapmf(frequencia.universe, [30, 50, 70, 90])\n",
        "frequencia['Ruim'] = fuzz.trapmf(frequencia.universe, [0, 0, 30, 50])\n",
        "\n",
        "risco['Baixo'] = fuzz.trimf(risco.universe, [0, 0, 5])\n",
        "risco['Medio'] = fuzz.trimf(risco.universe, [0, 5, 10])\n",
        "risco['Alto'] = fuzz.trimf(risco.universe, [5, 10, 10])\n"
      ],
      "metadata": {
        "id": "9VodBzL48tzJ"
      },
      "execution_count": null,
      "outputs": []
    },
    {
      "cell_type": "code",
      "source": [
        "# Definir regras difusas\n",
        "regra1 = ctrl.Rule(idade['Idoso'] & (gravidade['Grave'] | gravidade['Moderada']) & distancia['Longe'], risco['Alto'])\n",
        "#regra1 = ctrl.Rule(idade['Idoso'] & gravidade['Grave'] & distancia['Longe'], risco['Alto'])\n",
        "regra2 = ctrl.Rule(renda['Baixa'] & frequencia['Ruim'], risco['Alto'])\n",
        "regra3 = ctrl.Rule(idade['Jovem'] & gravidade['Leve'] & distancia['Perto'], risco['Baixo'])\n",
        "regra4 = ctrl.Rule(renda['Alta'] & frequencia['Boa'], risco['Baixo'])\n",
        "regra5 = ctrl.Rule(idade['Meia-idade'] & gravidade['Moderada'] & distancia['Media'] & frequencia['Regular'], risco['Medio'])\n",
        "regra6 = ctrl.Rule(idade['Jovem'] & gravidade['Leve'] & distancia['Longe'] & renda['Media'], risco['Medio'])\n",
        "regra7 = ctrl.Rule(idade['Meia-idade'] & gravidade['Leve'] & distancia['Media'] & renda['Media'], risco['Medio'])\n",
        "regra8 = ctrl.Rule(idade['Idoso'] & gravidade['Moderada'] & frequencia['Regular'], risco['Alto'])\n",
        "regra9 = ctrl.Rule(idade['Jovem'] & gravidade['Moderada'] & frequencia['Boa'], risco['Medio'])\n"
      ],
      "metadata": {
        "id": "zLoJm6u7Fy1N"
      },
      "execution_count": null,
      "outputs": []
    },
    {
      "cell_type": "code",
      "source": [
        "\n",
        "sistema_controle = ctrl.ControlSystem()\n",
        "\n",
        "# Verificar as regras do sistema de controle difuso\n",
        "print(sistema_controle.rules)\n",
        "\n",
        "\n",
        "# Verificar as regras do sistema de controle difuso\n",
        "print(sistema_controle.rules)\n",
        "\n",
        "\n",
        "sistema_controle.addrule(regra1)\n",
        "print(\"Regra 1 adicionada com sucesso!\")\n",
        "\n",
        "sistema_controle.addrule(regra2)\n",
        "print(\"Regra 2 adicionada com sucesso!\")\n",
        "\n",
        "sistema_controle.addrule(regra3)\n",
        "print(\"Regra 3 adicionada com sucesso!\")\n",
        "\n",
        "sistema_controle.addrule(regra4)\n",
        "print(\"Regra 4 adicionada com sucesso!\")\n",
        "\n",
        "#sistema_controle.addrule(regra5)\n",
        "#print(\"Regra 5 adicionada com sucesso!\")"
      ],
      "metadata": {
        "colab": {
          "base_uri": "https://localhost:8080/"
        },
        "id": "mbH5jo7HJWIW",
        "outputId": "d3d0b318-2435-452a-919f-cbb75daefe8f"
      },
      "execution_count": null,
      "outputs": [
        {
          "output_type": "stream",
          "name": "stdout",
          "text": [
            "<skfuzzy.control.controlsystem.RuleOrderGenerator object at 0x7af37fac7070>\n",
            "<skfuzzy.control.controlsystem.RuleOrderGenerator object at 0x7af37fac7070>\n",
            "Regra 1 adicionada com sucesso!\n",
            "Regra 2 adicionada com sucesso!\n",
            "Regra 3 adicionada com sucesso!\n",
            "Regra 4 adicionada com sucesso!\n"
          ]
        }
      ]
    },
    {
      "cell_type": "code",
      "source": [
        "#print(simulacao.rules)\n",
        "\n",
        "# Imprimir as regras\n",
        "print(\"Regra 1:\", regra1)\n",
        "print(\"Regra 2:\", regra2)\n",
        "print(\"Regra 3:\", regra3)\n",
        "print(\"Regra 4:\", regra4)\n",
        "print(\"Regra 5:\", regra5)\n",
        "print(\"Regra 6:\", regra6)\n",
        "print(\"Regra 7:\", regra7)\n",
        "print(\"Regra 8:\", regra8)\n",
        "print(\"Regra 9:\", regra9)"
      ],
      "metadata": {
        "id": "1Pzf0aFlG0mA"
      },
      "execution_count": null,
      "outputs": []
    },
    {
      "cell_type": "code",
      "source": [
        "# Criar o sistema de controle difuso com as regras\n",
        "#sistema_controle = ctrl.ControlSystem([regra1, regra2, regra3, regra4, regra5, regra6, regra7, regra8, regra9])\n",
        "\n",
        "# Verificar se todas as variáveis estão definidas corretamente\n",
        "print(idade.terms)\n",
        "print(gravidade.terms)\n",
        "print(distancia.terms)\n",
        "print(renda.terms)\n",
        "print(frequencia.terms)\n",
        "print(risco.terms)\n",
        "\n",
        "#sistema_controle = ctrl.ControlSystem([regra1, regra2, regra3, regra4, regra5])\n",
        "\n",
        "# sistema_controle.addrule(regra9)\n",
        "\n",
        "# Criar a simulação do sistema difuso\n",
        "simulacao = ctrl.ControlSystemSimulation(sistema_controle)\n",
        "sistema_controle.view()"
      ],
      "metadata": {
        "id": "Uhm1aJNc80Xc",
        "colab": {
          "base_uri": "https://localhost:8080/",
          "height": 510
        },
        "outputId": "eeca2eae-00fe-40a1-b25e-e792cd5c3b50"
      },
      "execution_count": null,
      "outputs": [
        {
          "output_type": "stream",
          "name": "stdout",
          "text": [
            "OrderedDict([('Jovem', Idade[Jovem]), ('Meia-idade', Idade[Meia-idade]), ('Idoso', Idade[Idoso])])\n",
            "OrderedDict([('Leve', Gravidade[Leve]), ('Moderada', Gravidade[Moderada]), ('Grave', Gravidade[Grave])])\n",
            "OrderedDict([('Perto', Distancia[Perto]), ('Media', Distancia[Media]), ('Longe', Distancia[Longe])])\n",
            "OrderedDict([('Baixa', Renda[Baixa]), ('Media', Renda[Media]), ('Alta', Renda[Alta])])\n",
            "OrderedDict([('Boa', Frequencia[Boa]), ('Regular', Frequencia[Regular]), ('Ruim', Frequencia[Ruim])])\n",
            "OrderedDict([('Baixo', Risco[Baixo]), ('Medio', Risco[Medio]), ('Alto', Risco[Alto])])\n"
          ]
        },
        {
          "output_type": "display_data",
          "data": {
            "text/plain": [
              "<Figure size 640x480 with 1 Axes>"
            ],
            "image/png": "[encoded data removed]"
          },
          "metadata": {}
        }
      ]
    },
    {
      "cell_type": "code",
      "source": [
        "print(simulacao.output)"
      ],
      "metadata": {
        "colab": {
          "base_uri": "https://localhost:8080/"
        },
        "id": "q8E8UGn7Gx1N",
        "outputId": "e590322f-7933-40d0-cdff-e04e231ac44e"
      },
      "execution_count": null,
      "outputs": [
        {
          "output_type": "stream",
          "name": "stdout",
          "text": [
            "OrderedDict()\n"
          ]
        }
      ]
    },
    {
      "cell_type": "code",
      "source": [
        "\n",
        "# Dividir os dados em conjuntos de treinamento e teste\n",
        "X = dados[['Idade', 'Gravidade', 'Renda', 'Distancia', 'Frequencia']]\n",
        "y = dados['Risco']\n",
        "print(X.shape)\n",
        "print(y.shape)\n",
        "\n",
        "print(X.head())\n",
        "print(y.head())\n",
        "\n"
      ],
      "metadata": {
        "colab": {
          "base_uri": "https://localhost:8080/"
        },
        "id": "-gb9-D2SAhC6",
        "outputId": "714ecce7-8bce-4344-9d6e-534fd56bc822"
      },
      "execution_count": null,
      "outputs": [
        {
          "output_type": "stream",
          "name": "stdout",
          "text": [
            "(20, 5)\n",
            "(20,)\n",
            "   Idade  Gravidade  Renda  Distancia  Frequencia\n",
            "0     32          1  45000   0.333333          95\n",
            "1     68          3  18000   0.820513          60\n",
            "2     25          2  32000   0.134615          85\n",
            "3     54          2  28000   0.570513          70\n",
            "4     42          1  56000   0.237179          90\n",
            "0    Baixo\n",
            "1     Alto\n",
            "2    Baixo\n",
            "3    Medio\n",
            "4    Baixo\n",
            "Name: Risco, dtype: object\n"
          ]
        }
      ]
    },
    {
      "cell_type": "markdown",
      "source": [
        "##Pré-processamento dos dados\n",
        "Realize a normalização ou o escalonamento dos dados de entrada para garantir que estejam na mesma escala e evitar a dominância de certas variáveis.\n",
        "Lide com outliers e valores discrepantes que possam afetar o desempenho do modelo."
      ],
      "metadata": {
        "id": "jIhNNTYC9ySl"
      }
    },
    {
      "cell_type": "code",
      "source": [
        "# Exemplo de normalização dos dados\n",
        "from sklearn.preprocessing import MinMaxScaler\n",
        "\n",
        "scaler = MinMaxScaler()\n",
        "X_scaled = scaler.fit_transform(X)"
      ],
      "metadata": {
        "id": "utA4BjQ-9sSO"
      },
      "execution_count": null,
      "outputs": []
    },
    {
      "cell_type": "code",
      "source": [
        "#Treinamento\n",
        "X_train, X_test, y_train, y_test = train_test_split(X, y, test_size=0.2, random_state=42)"
      ],
      "metadata": {
        "id": "Hsj40cGgHv7r"
      },
      "execution_count": null,
      "outputs": []
    },
    {
      "cell_type": "markdown",
      "source": [
        "##Seleção de variáveis:\n",
        "Avalie a relevância de cada variável de entrada e considere remover variáveis que possam não contribuir significativamente para a previsão.\n",
        "Utilize técnicas de seleção de variáveis, como a análise de correlação ou a importância das variáveis em modelos de aprendizado de máquina, para identificar as variáveis mais informativas."
      ],
      "metadata": {
        "id": "QevAwwFiTnm8"
      }
    },
    {
      "cell_type": "code",
      "source": [
        "# Exemplo de seleção de variáveis usando a importância das variáveis em um modelo de Random Forest\n",
        "from sklearn.ensemble import RandomForestClassifier\n",
        "\n",
        "rf = RandomForestClassifier()\n",
        "rf.fit(X_train, y_train)\n",
        "importancias = rf.feature_importances_\n",
        "# Selecionar as variáveis mais importantes com base em um limiar\n",
        "limiar_importancia = 0.1\n",
        "variaveis_selecionadas = X.columns[importancias >= limiar_importancia]"
      ],
      "metadata": {
        "id": "LdPN5IB3TmY2"
      },
      "execution_count": null,
      "outputs": []
    },
    {
      "cell_type": "code",
      "source": [
        "variaveis_selecionadas"
      ],
      "metadata": {
        "colab": {
          "base_uri": "https://localhost:8080/"
        },
        "id": "xWSE3-dOT31D",
        "outputId": "b73caaa0-2935-4d5d-833d-06f57cc12bc6"
      },
      "execution_count": null,
      "outputs": [
        {
          "output_type": "execute_result",
          "data": {
            "text/plain": [
              "Index(['Idade', 'Renda', 'Distancia', 'Frequencia'], dtype='object')"
            ]
          },
          "metadata": {},
          "execution_count": 58
        }
      ]
    },
    {
      "cell_type": "markdown",
      "source": [
        "# Validação cruzada:\n",
        "Utilize a validação cruzada para avaliar o desempenho do modelo de forma mais robusta e evitar o overfitting.\n",
        "A validação cruzada permite obter uma estimativa mais confiável da acurácia do modelo, treinando e testando em diferentes subconjuntos dos dados.\n",
        "\n",
        "Lembremos de verificar se as variáveis de entrada (Idade, Gravidade, Renda, Distancia, Frequencia) estão definidas corretamente no seu sistema de controle difuso e se correspondem aos nomes usados na simulação.\n",
        "\n",
        "Após fazer essas alterações, a validação cruzada deve ser executada sem erros e poderemos obter a acurácia média do seu modelo de sistema de controle difuso."
      ],
      "metadata": {
        "id": "XNJkeifHT-4l"
      }
    },
    {
      "cell_type": "code",
      "source": [
        "from sklearn.model_selection import cross_val_score\n",
        "# Criar uma instância do wrapper do sistema de controle difuso\n",
        "fuzzy_system_wrapper = FuzzyControlSystemWrapper(sistema_controle)\n",
        "\n",
        "# Realizar a validação cruzada\n",
        "scores = cross_val_score(fuzzy_system_wrapper, X, y, cv=5, scoring='accuracy')\n",
        "acuracia_media = scores.mean()\n",
        "print(f\"Acurácia média na validação cruzada: {acuracia_media:.2f}\")\n"
      ],
      "metadata": {
        "id": "PvdczYdQWPcB"
      },
      "execution_count": null,
      "outputs": []
    },
    {
      "cell_type": "markdown",
      "source": [
        "##Ajuste de hiperparâmetros:\n",
        "Realize uma busca de hiperparâmetros para encontrar a melhor combinação de parâmetros para o seu modelo.\n",
        "Utilize técnicas como a busca em grade (grid search) ou a busca aleatória (random search) para explorar diferentes configurações de hiperparâmetros."
      ],
      "metadata": {
        "id": "UEpR59ZbU0RD"
      }
    },
    {
      "cell_type": "code",
      "source": [
        "from sklearn.model_selection import GridSearchCV\n",
        "\n",
        "param_grid = {\n",
        "    'idade_jovem_mean': [10, 20, 30],\n",
        "    'idade_jovem_std': [5, 10],\n",
        "    'idade_meia_idade_mean': [40, 50],\n",
        "    'idade_meia_idade_std': [5, 10],\n",
        "    # Adicionar outros parâmetros\n",
        "}\n",
        "\n",
        "fuzzy_system_wrapper = FuzzyControlSystemWrapper(sistema_controle)\n",
        "grid_search = GridSearchCV(fuzzy_system_wrapper, param_grid, cv=5, scoring='accuracy')\n",
        "grid_search.fit(X, y)\n",
        "melhores_parametros = grid_search.best_params_\n",
        "\n",
        "print(\"Melhores parâmetros encontrados:\", melhores_parametros)"
      ],
      "metadata": {
        "id": "QpFhrjOha4gR"
      },
      "execution_count": null,
      "outputs": []
    },
    {
      "cell_type": "markdown",
      "source": [
        "## Treinando o modelo difuso"
      ],
      "metadata": {
        "id": "stgFtU3NTvEH"
      }
    },
    {
      "cell_type": "code",
      "source": [
        "# Treinar o modelo difuso\n",
        "previsoes_treino = []\n",
        "for _, row in X_train.iterrows():\n",
        "    simulacao.input['Idade'] = row['Idade']\n",
        "    simulacao.input['Gravidade'] = row['Gravidade']\n",
        "    simulacao.input['Renda'] = row['Renda']\n",
        "    simulacao.input['Distancia'] = row['Distancia']\n",
        "    simulacao.input['Frequencia'] = row['Frequencia']\n",
        "    try:\n",
        "        simulacao.compute()\n",
        "        previsoes_treino.append(simulacao.output['Risco'])\n",
        "    except ValueError:\n",
        "        previsoes_treino.append(0)  # Atribuir um valor padrão quando a saída é vazia\n"
      ],
      "metadata": {
        "id": "84IESnkd82Y4"
      },
      "execution_count": null,
      "outputs": []
    },
    {
      "cell_type": "code",
      "source": [
        "# Avaliar o modelo difuso no conjunto de teste\n",
        "previsoes_teste = []\n",
        "for _, row in X_test.iterrows():\n",
        "    simulacao.input['Idade'] = row['Idade']\n",
        "    simulacao.input['Gravidade'] = row['Gravidade']\n",
        "    simulacao.input['Renda'] = row['Renda']\n",
        "    simulacao.input['Distancia'] = row['Distancia']\n",
        "    simulacao.input['Frequencia'] = row['Frequencia']\n",
        "    try:\n",
        "        simulacao.compute()\n",
        "        previsoes_teste.append(simulacao.output['Risco'])\n",
        "    except ValueError:\n",
        "        previsoes_teste.append(0)  # Atribuir um valor padrão quando a saída é vazia\n",
        "\n"
      ],
      "metadata": {
        "id": "Lz_QhgLR84Hy"
      },
      "execution_count": null,
      "outputs": []
    },
    {
      "cell_type": "markdown",
      "source": [
        "##Os rótulos discretos\n",
        "\n",
        " São um tipo de representação em que os valores são divididos em categorias ou classes distintas e não contínuas. Neste caso, os rótulos discretos são usados para converter as previsões numéricas contínuas em categorias discretas com base em um limite (threshold) específico.\n",
        "\n",
        "##Utilidade e casos de uso dos rotulos\n",
        " Os rótulos discretos são úteis em várias situações:\n",
        "\n",
        "- Interpretabilidade: Converter previsões numéricas em rótulos discretos pode tornar os resultados mais interpretáveis e compreensíveis para os usuários finais. Em vez de lidar com números contínuos, os rótulos discretos fornecem uma categorização mais clara e significativa.\n",
        "- Tomada de decisão: Os rótulos discretos podem ser usados diretamente para tomar decisões com base nas previsões. Por exemplo, se o rótulo previsto for 'Alto', pode acionar uma ação específica, como enviar um alerta ou tomar uma medida preventiva.\n",
        "- Avaliação do modelo: Os rótulos discretos permitem calcular métricas de avaliação, como acurácia, precisão, recall e F1-score, que são comumente usadas para avaliar o desempenho de modelos de classificação.\n",
        "\n"
      ],
      "metadata": {
        "id": "7nQMVVB6PzR5"
      }
    },
    {
      "cell_type": "markdown",
      "source": [
        "##Previsões numéricas\n",
        "\n",
        "\n",
        "As previsões numéricas (previsoes_treino e previsoes_teste) são convertidas em rótulos discretos ('Alto' ou 'Baixo')\n",
        "com base no valor do limite. Se a previsão numérica for maior ou igual ao limite, o rótulo atribuído será 'Alto';\n",
        "caso contrário, será 'Baixo'.\n",
        "\n",
        "Quanto ao ajuste do limite, ele depende do problema específico e dos requisitos do seu sistema.\n",
        "O valor do limite determina a fronteira entre as classes discretas. Ajustar o limite permite controlar a sensibilidade\n",
        "do modelo em relação à classificação das previsões.\n",
        "Por exemplo, se você quiser que o modelo seja mais sensível em classificar as previsões como 'Alto',\n",
        "pode diminuir o valor do limite. Isso fará com que mais previsões sejam classificadas como 'Alto'.\n",
        "Por outro lado, se você quiser que o modelo seja mais restritivo ao classificar as previsões como 'Alto',\n",
        "pode aumentar o valor do limite.\n",
        "\n",
        "```python:\n",
        "\n",
        "# Exemplo 1: Aumentar o limite para tornar o modelo mais restritivo\n",
        "limite = 7\n",
        "previsoes_treino_rotulos = ['Alto' if x >= limite else 'Baixo' for x in previsoes_treino]\n",
        "previsoes_teste_rotulos = ['Alto' if x >= limite else 'Baixo' for x in previsoes_teste]\n",
        "\n",
        "# Exemplo 3: Usar múltiplos limites para criar mais categorias discretas\n",
        "limites = [3, 6, 8]\n",
        "labels = ['Baixo', 'Médio', 'Alto', 'Muito Alto']\n",
        "previsoes_treino_rotulos = [labels[sum(x >= limite for limite in limites)] for x in previsoes_treino]\n",
        "previsoes_teste_rotulos = [labels[sum(x >= limite for limite in limites)] for x in previsoes_teste]\n",
        "\n",
        "```"
      ],
      "metadata": {
        "id": "ZLuui27BRSc7"
      }
    },
    {
      "cell_type": "code",
      "source": [
        "\n",
        "# Converter as previsões para rótulos discretos\n",
        "limite = 7  # Ajustar conforme necessário\n",
        "previsoes_treino_rotulos = ['Alto' if x >= limite else 'Baixo' for x in previsoes_treino]\n",
        "previsoes_teste_rotulos = ['Alto' if x >= limite else 'Baixo' for x in previsoes_teste]\n",
        "\n"
      ],
      "metadata": {
        "id": "kWyrP7Jm86XE"
      },
      "execution_count": null,
      "outputs": []
    },
    {
      "cell_type": "code",
      "source": [
        "\n",
        "# Calcular a acurácia do modelo difuso\n",
        "acuracia_treino = accuracy_score(y_train, previsoes_treino_rotulos)\n",
        "acuracia_teste = accuracy_score(y_test, previsoes_teste_rotulos)\n",
        "\n",
        "print(f\"Acurácia no conjunto de treinamento: {acuracia_treino:.2f}\")\n",
        "print(f\"Acurácia no conjunto de teste: {acuracia_teste:.2f}\")"
      ],
      "metadata": {
        "colab": {
          "base_uri": "https://localhost:8080/"
        },
        "id": "wSrccgcP87nU",
        "outputId": "c0e1e626-1245-4642-87e9-ef778b7a0631"
      },
      "execution_count": null,
      "outputs": [
        {
          "output_type": "stream",
          "name": "stdout",
          "text": [
            "Acurácia no conjunto de treinamento: 0.69\n",
            "Acurácia no conjunto de teste: 1.00\n"
          ]
        }
      ]
    }
  ]
}