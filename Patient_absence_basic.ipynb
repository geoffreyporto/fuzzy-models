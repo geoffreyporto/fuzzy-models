{
  "nbformat": 4,
  "nbformat_minor": 0,
  "metadata": {
    "colab": {
      "provenance": [],
      "gpuType": "T4"
    },
    "kernelspec": {
      "name": "python3",
      "display_name": "Python 3"
    },
    "language_info": {
      "name": "python"
    },
    "accelerator": "GPU"
  },
  "cells": [
    {
      "cell_type": "markdown",
      "source": [
        "Python Libs"
      ],
      "metadata": {
        "id": "oCexpq9T6qha"
      }
    },
    {
      "cell_type": "code",
      "source": [
        "%%writefile requirements.txt\n",
        "\n",
        "absl-py==2.1.0\n",
        "annotated-types==0.6.0\n",
        "anyio==4.3.0\n",
        "astunparse==1.6.3\n",
        "certifi==2024.2.2\n",
        "charset-normalizer==3.3.2\n",
        "click==8.1.7\n",
        "contourpy==1.2.1\n",
        "cycler==0.12.1\n",
        "fastapi==0.110.1\n",
        "flatbuffers==24.3.25\n",
        "fonttools==4.51.0\n",
        "gast==0.5.4\n",
        "google-pasta==0.2.0\n",
        "grpcio==1.62.1\n",
        "h11==0.14.0\n",
        "h5py==3.11.0\n",
        "idna==3.7\n",
        "keras==3.2.1\n",
        "kiwisolver==1.4.5\n",
        "libclang==18.1.1\n",
        "Markdown==3.6\n",
        "markdown-it-py==3.0.0\n",
        "MarkupSafe==2.1.5\n",
        "matplotlib==3.8.4\n",
        "mdurl==0.1.2\n",
        "ml-dtypes==0.3.2\n",
        "namex==0.0.7\n",
        "networkx==3.3\n",
        "numpy==1.26.4\n",
        "opt-einsum==3.3.0\n",
        "optree==0.11.0\n",
        "packaging==24.0\n",
        "pandas==2.2.2\n",
        "pillow==10.3.0\n",
        "protobuf==4.25.3\n",
        "pydantic==2.7.0\n",
        "pydantic_core==2.18.1\n",
        "Pygments==2.17.2\n",
        "pyparsing==3.1.2\n",
        "python-dateutil==2.9.0.post0\n",
        "pytz==2024.1\n",
        "requests==2.31.0\n",
        "rich==13.7.1\n",
        "scikit-fuzzy==0.4.2\n",
        "scipy==1.13.0\n",
        "six==1.16.0\n",
        "sniffio==1.3.1\n",
        "starlette==0.37.2\n",
        "tensorboard==2.16.2\n",
        "tensorboard-data-server==0.7.2\n",
        "tensorflow==2.16.1\n",
        "tensorflow-io-gcs-filesystem==0.36.0\n",
        "termcolor==2.4.0\n",
        "typing_extensions==4.11.0\n",
        "tzdata==2024.1\n",
        "urllib3==2.2.1\n",
        "uvicorn==0.29.0\n",
        "Werkzeug==3.0.2\n",
        "wrapt==1.16.0"
      ],
      "metadata": {
        "colab": {
          "base_uri": "https://localhost:8080/"
        },
        "id": "y7zvUDoSyfwL",
        "outputId": "61c97b65-5ee7-47f8-acdb-93ae4ebfd6d9"
      },
      "execution_count": 1,
      "outputs": [
        {
          "output_type": "stream",
          "name": "stdout",
          "text": [
            "Writing requirements.txt\n"
          ]
        }
      ]
    },
    {
      "cell_type": "code",
      "source": [
        "!pip install -r requirements.txt"
      ],
      "metadata": {
        "colab": {
          "base_uri": "https://localhost:8080/",
          "height": 1000
        },
        "id": "HLM9FFsFyj0Y",
        "outputId": "d2d63168-84f9-4e49-96e4-ef2c17934470"
      },
      "execution_count": 2,
      "outputs": [
        {
          "output_type": "stream",
          "name": "stdout",
          "text": [
            "Collecting absl-py==2.1.0 (from -r requirements.txt (line 2))\n",
            "  Downloading absl_py-2.1.0-py3-none-any.whl (133 kB)\n",
            "\u001b[?25l     \u001b[90m━━━━━━━━━━━━━━━━━━━━━━━━━━━━━━━━━━━━━━━━\u001b[0m \u001b[32m0.0/133.7 kB\u001b[0m \u001b[31m?\u001b[0m eta \u001b[36m-:--:--\u001b[0m\r\u001b[2K     \u001b[91m━━━━━━━━━━━━━━━━━━━━━━━━━━━\u001b[0m\u001b[91m╸\u001b[0m\u001b[90m━━━━━━━━━━━━\u001b[0m \u001b[32m92.2/133.7 kB\u001b[0m \u001b[31m2.5 MB/s\u001b[0m eta \u001b[36m0:00:01\u001b[0m\r\u001b[2K     \u001b[90m━━━━━━━━━━━━━━━━━━━━━━━━━━━━━━━━━━━━━━━━\u001b[0m \u001b[32m133.7/133.7 kB\u001b[0m \u001b[31m2.6 MB/s\u001b[0m eta \u001b[36m0:00:00\u001b[0m\n",
            "\u001b[?25hRequirement already satisfied: annotated-types==0.6.0 in /usr/local/lib/python3.10/dist-packages (from -r requirements.txt (line 3)) (0.6.0)\n",
            "Collecting anyio==4.3.0 (from -r requirements.txt (line 4))\n",
            "  Downloading anyio-4.3.0-py3-none-any.whl (85 kB)\n",
            "\u001b[2K     \u001b[90m━━━━━━━━━━━━━━━━━━━━━━━━━━━━━━━━━━━━━━━━\u001b[0m \u001b[32m85.6/85.6 kB\u001b[0m \u001b[31m5.4 MB/s\u001b[0m eta \u001b[36m0:00:00\u001b[0m\n",
            "\u001b[?25hRequirement already satisfied: astunparse==1.6.3 in /usr/local/lib/python3.10/dist-packages (from -r requirements.txt (line 5)) (1.6.3)\n",
            "Requirement already satisfied: certifi==2024.2.2 in /usr/local/lib/python3.10/dist-packages (from -r requirements.txt (line 6)) (2024.2.2)\n",
            "Requirement already satisfied: charset-normalizer==3.3.2 in /usr/local/lib/python3.10/dist-packages (from -r requirements.txt (line 7)) (3.3.2)\n",
            "Requirement already satisfied: click==8.1.7 in /usr/local/lib/python3.10/dist-packages (from -r requirements.txt (line 8)) (8.1.7)\n",
            "Requirement already satisfied: contourpy==1.2.1 in /usr/local/lib/python3.10/dist-packages (from -r requirements.txt (line 9)) (1.2.1)\n",
            "Requirement already satisfied: cycler==0.12.1 in /usr/local/lib/python3.10/dist-packages (from -r requirements.txt (line 10)) (0.12.1)\n",
            "Collecting fastapi==0.110.1 (from -r requirements.txt (line 11))\n",
            "  Downloading fastapi-0.110.1-py3-none-any.whl (91 kB)\n",
            "\u001b[2K     \u001b[90m━━━━━━━━━━━━━━━━━━━━━━━━━━━━━━━━━━━━━━━━\u001b[0m \u001b[32m91.9/91.9 kB\u001b[0m \u001b[31m6.0 MB/s\u001b[0m eta \u001b[36m0:00:00\u001b[0m\n",
            "\u001b[?25hRequirement already satisfied: flatbuffers==24.3.25 in /usr/local/lib/python3.10/dist-packages (from -r requirements.txt (line 12)) (24.3.25)\n",
            "Requirement already satisfied: fonttools==4.51.0 in /usr/local/lib/python3.10/dist-packages (from -r requirements.txt (line 13)) (4.51.0)\n",
            "Requirement already satisfied: gast==0.5.4 in /usr/local/lib/python3.10/dist-packages (from -r requirements.txt (line 14)) (0.5.4)\n",
            "Requirement already satisfied: google-pasta==0.2.0 in /usr/local/lib/python3.10/dist-packages (from -r requirements.txt (line 15)) (0.2.0)\n",
            "Requirement already satisfied: grpcio==1.62.1 in /usr/local/lib/python3.10/dist-packages (from -r requirements.txt (line 16)) (1.62.1)\n",
            "Collecting h11==0.14.0 (from -r requirements.txt (line 17))\n",
            "  Downloading h11-0.14.0-py3-none-any.whl (58 kB)\n",
            "\u001b[2K     \u001b[90m━━━━━━━━━━━━━━━━━━━━━━━━━━━━━━━━━━━━━━━━\u001b[0m \u001b[32m58.3/58.3 kB\u001b[0m \u001b[31m5.9 MB/s\u001b[0m eta \u001b[36m0:00:00\u001b[0m\n",
            "\u001b[?25hCollecting h5py==3.11.0 (from -r requirements.txt (line 18))\n",
            "  Downloading h5py-3.11.0-cp310-cp310-manylinux_2_17_x86_64.manylinux2014_x86_64.whl (5.3 MB)\n",
            "\u001b[2K     \u001b[90m━━━━━━━━━━━━━━━━━━━━━━━━━━━━━━━━━━━━━━━━\u001b[0m \u001b[32m5.3/5.3 MB\u001b[0m \u001b[31m13.9 MB/s\u001b[0m eta \u001b[36m0:00:00\u001b[0m\n",
            "\u001b[?25hCollecting idna==3.7 (from -r requirements.txt (line 19))\n",
            "  Downloading idna-3.7-py3-none-any.whl (66 kB)\n",
            "\u001b[2K     \u001b[90m━━━━━━━━━━━━━━━━━━━━━━━━━━━━━━━━━━━━━━━━\u001b[0m \u001b[32m66.8/66.8 kB\u001b[0m \u001b[31m6.2 MB/s\u001b[0m eta \u001b[36m0:00:00\u001b[0m\n",
            "\u001b[?25hCollecting keras==3.2.1 (from -r requirements.txt (line 20))\n",
            "  Downloading keras-3.2.1-py3-none-any.whl (1.1 MB)\n",
            "\u001b[2K     \u001b[90m━━━━━━━━━━━━━━━━━━━━━━━━━━━━━━━━━━━━━━━━\u001b[0m \u001b[32m1.1/1.1 MB\u001b[0m \u001b[31m22.5 MB/s\u001b[0m eta \u001b[36m0:00:00\u001b[0m\n",
            "\u001b[?25hRequirement already satisfied: kiwisolver==1.4.5 in /usr/local/lib/python3.10/dist-packages (from -r requirements.txt (line 21)) (1.4.5)\n",
            "Requirement already satisfied: libclang==18.1.1 in /usr/local/lib/python3.10/dist-packages (from -r requirements.txt (line 22)) (18.1.1)\n",
            "Requirement already satisfied: Markdown==3.6 in /usr/local/lib/python3.10/dist-packages (from -r requirements.txt (line 23)) (3.6)\n",
            "Requirement already satisfied: markdown-it-py==3.0.0 in /usr/local/lib/python3.10/dist-packages (from -r requirements.txt (line 24)) (3.0.0)\n",
            "Requirement already satisfied: MarkupSafe==2.1.5 in /usr/local/lib/python3.10/dist-packages (from -r requirements.txt (line 25)) (2.1.5)\n",
            "Collecting matplotlib==3.8.4 (from -r requirements.txt (line 26))\n",
            "  Downloading matplotlib-3.8.4-cp310-cp310-manylinux_2_17_x86_64.manylinux2014_x86_64.whl (11.6 MB)\n",
            "\u001b[2K     \u001b[90m━━━━━━━━━━━━━━━━━━━━━━━━━━━━━━━━━━━━━━━━\u001b[0m \u001b[32m11.6/11.6 MB\u001b[0m \u001b[31m41.3 MB/s\u001b[0m eta \u001b[36m0:00:00\u001b[0m\n",
            "\u001b[?25hRequirement already satisfied: mdurl==0.1.2 in /usr/local/lib/python3.10/dist-packages (from -r requirements.txt (line 27)) (0.1.2)\n",
            "Collecting ml-dtypes==0.3.2 (from -r requirements.txt (line 28))\n",
            "  Downloading ml_dtypes-0.3.2-cp310-cp310-manylinux_2_17_x86_64.manylinux2014_x86_64.whl (2.2 MB)\n",
            "\u001b[2K     \u001b[90m━━━━━━━━━━━━━━━━━━━━━━━━━━━━━━━━━━━━━━━━\u001b[0m \u001b[32m2.2/2.2 MB\u001b[0m \u001b[31m58.8 MB/s\u001b[0m eta \u001b[36m0:00:00\u001b[0m\n",
            "\u001b[?25hCollecting namex==0.0.7 (from -r requirements.txt (line 29))\n",
            "  Downloading namex-0.0.7-py3-none-any.whl (5.8 kB)\n",
            "Requirement already satisfied: networkx==3.3 in /usr/local/lib/python3.10/dist-packages (from -r requirements.txt (line 30)) (3.3)\n",
            "Collecting numpy==1.26.4 (from -r requirements.txt (line 31))\n",
            "  Downloading numpy-1.26.4-cp310-cp310-manylinux_2_17_x86_64.manylinux2014_x86_64.whl (18.2 MB)\n",
            "\u001b[2K     \u001b[90m━━━━━━━━━━━━━━━━━━━━━━━━━━━━━━━━━━━━━━━━\u001b[0m \u001b[32m18.2/18.2 MB\u001b[0m \u001b[31m61.4 MB/s\u001b[0m eta \u001b[36m0:00:00\u001b[0m\n",
            "\u001b[?25hRequirement already satisfied: opt-einsum==3.3.0 in /usr/local/lib/python3.10/dist-packages (from -r requirements.txt (line 32)) (3.3.0)\n",
            "Collecting optree==0.11.0 (from -r requirements.txt (line 33))\n",
            "  Downloading optree-0.11.0-cp310-cp310-manylinux_2_17_x86_64.manylinux2014_x86_64.whl (311 kB)\n",
            "\u001b[2K     \u001b[90m━━━━━━━━━━━━━━━━━━━━━━━━━━━━━━━━━━━━━━━━\u001b[0m \u001b[32m311.2/311.2 kB\u001b[0m \u001b[31m30.6 MB/s\u001b[0m eta \u001b[36m0:00:00\u001b[0m\n",
            "\u001b[?25hRequirement already satisfied: packaging==24.0 in /usr/local/lib/python3.10/dist-packages (from -r requirements.txt (line 34)) (24.0)\n",
            "Collecting pandas==2.2.2 (from -r requirements.txt (line 35))\n",
            "  Downloading pandas-2.2.2-cp310-cp310-manylinux_2_17_x86_64.manylinux2014_x86_64.whl (13.0 MB)\n",
            "\u001b[2K     \u001b[90m━━━━━━━━━━━━━━━━━━━━━━━━━━━━━━━━━━━━━━━━\u001b[0m \u001b[32m13.0/13.0 MB\u001b[0m \u001b[31m74.4 MB/s\u001b[0m eta \u001b[36m0:00:00\u001b[0m\n",
            "\u001b[?25hCollecting pillow==10.3.0 (from -r requirements.txt (line 36))\n",
            "  Downloading pillow-10.3.0-cp310-cp310-manylinux_2_28_x86_64.whl (4.5 MB)\n",
            "\u001b[2K     \u001b[90m━━━━━━━━━━━━━━━━━━━━━━━━━━━━━━━━━━━━━━━━\u001b[0m \u001b[32m4.5/4.5 MB\u001b[0m \u001b[31m86.8 MB/s\u001b[0m eta \u001b[36m0:00:00\u001b[0m\n",
            "\u001b[?25hCollecting protobuf==4.25.3 (from -r requirements.txt (line 37))\n",
            "  Downloading protobuf-4.25.3-cp37-abi3-manylinux2014_x86_64.whl (294 kB)\n",
            "\u001b[2K     \u001b[90m━━━━━━━━━━━━━━━━━━━━━━━━━━━━━━━━━━━━━━━━\u001b[0m \u001b[32m294.6/294.6 kB\u001b[0m \u001b[31m26.1 MB/s\u001b[0m eta \u001b[36m0:00:00\u001b[0m\n",
            "\u001b[?25hCollecting pydantic==2.7.0 (from -r requirements.txt (line 38))\n",
            "  Downloading pydantic-2.7.0-py3-none-any.whl (407 kB)\n",
            "\u001b[2K     \u001b[90m━━━━━━━━━━━━━━━━━━━━━━━━━━━━━━━━━━━━━━━━\u001b[0m \u001b[32m407.9/407.9 kB\u001b[0m \u001b[31m36.0 MB/s\u001b[0m eta \u001b[36m0:00:00\u001b[0m\n",
            "\u001b[?25hCollecting pydantic_core==2.18.1 (from -r requirements.txt (line 39))\n",
            "  Downloading pydantic_core-2.18.1-cp310-cp310-manylinux_2_17_x86_64.manylinux2014_x86_64.whl (2.1 MB)\n",
            "\u001b[2K     \u001b[90m━━━━━━━━━━━━━━━━━━━━━━━━━━━━━━━━━━━━━━━━\u001b[0m \u001b[32m2.1/2.1 MB\u001b[0m \u001b[31m9.8 MB/s\u001b[0m eta \u001b[36m0:00:00\u001b[0m\n",
            "\u001b[?25hCollecting Pygments==2.17.2 (from -r requirements.txt (line 40))\n",
            "  Downloading pygments-2.17.2-py3-none-any.whl (1.2 MB)\n",
            "\u001b[2K     \u001b[90m━━━━━━━━━━━━━━━━━━━━━━━━━━━━━━━━━━━━━━━━\u001b[0m \u001b[32m1.2/1.2 MB\u001b[0m \u001b[31m53.8 MB/s\u001b[0m eta \u001b[36m0:00:00\u001b[0m\n",
            "\u001b[?25hRequirement already satisfied: pyparsing==3.1.2 in /usr/local/lib/python3.10/dist-packages (from -r requirements.txt (line 41)) (3.1.2)\n",
            "Collecting python-dateutil==2.9.0.post0 (from -r requirements.txt (line 42))\n",
            "  Downloading python_dateutil-2.9.0.post0-py2.py3-none-any.whl (229 kB)\n",
            "\u001b[2K     \u001b[90m━━━━━━━━━━━━━━━━━━━━━━━━━━━━━━━━━━━━━━━━\u001b[0m \u001b[32m229.9/229.9 kB\u001b[0m \u001b[31m20.7 MB/s\u001b[0m eta \u001b[36m0:00:00\u001b[0m\n",
            "\u001b[?25hCollecting pytz==2024.1 (from -r requirements.txt (line 43))\n",
            "  Downloading pytz-2024.1-py2.py3-none-any.whl (505 kB)\n",
            "\u001b[2K     \u001b[90m━━━━━━━━━━━━━━━━━━━━━━━━━━━━━━━━━━━━━━━━\u001b[0m \u001b[32m505.5/505.5 kB\u001b[0m \u001b[31m35.9 MB/s\u001b[0m eta \u001b[36m0:00:00\u001b[0m\n",
            "\u001b[?25hRequirement already satisfied: requests==2.31.0 in /usr/local/lib/python3.10/dist-packages (from -r requirements.txt (line 44)) (2.31.0)\n",
            "Requirement already satisfied: rich==13.7.1 in /usr/local/lib/python3.10/dist-packages (from -r requirements.txt (line 45)) (13.7.1)\n",
            "Collecting scikit-fuzzy==0.4.2 (from -r requirements.txt (line 46))\n",
            "  Downloading scikit-fuzzy-0.4.2.tar.gz (993 kB)\n",
            "\u001b[2K     \u001b[90m━━━━━━━━━━━━━━━━━━━━━━━━━━━━━━━━━━━━━━━━\u001b[0m \u001b[32m994.0/994.0 kB\u001b[0m \u001b[31m47.2 MB/s\u001b[0m eta \u001b[36m0:00:00\u001b[0m\n",
            "\u001b[?25h  Preparing metadata (setup.py) ... \u001b[?25l\u001b[?25hdone\n",
            "Collecting scipy==1.13.0 (from -r requirements.txt (line 47))\n",
            "  Downloading scipy-1.13.0-cp310-cp310-manylinux_2_17_x86_64.manylinux2014_x86_64.whl (38.6 MB)\n",
            "\u001b[2K     \u001b[90m━━━━━━━━━━━━━━━━━━━━━━━━━━━━━━━━━━━━━━━━\u001b[0m \u001b[32m38.6/38.6 MB\u001b[0m \u001b[31m22.0 MB/s\u001b[0m eta \u001b[36m0:00:00\u001b[0m\n",
            "\u001b[?25hRequirement already satisfied: six==1.16.0 in /usr/local/lib/python3.10/dist-packages (from -r requirements.txt (line 48)) (1.16.0)\n",
            "Requirement already satisfied: sniffio==1.3.1 in /usr/local/lib/python3.10/dist-packages (from -r requirements.txt (line 49)) (1.3.1)\n",
            "Collecting starlette==0.37.2 (from -r requirements.txt (line 50))\n",
            "  Downloading starlette-0.37.2-py3-none-any.whl (71 kB)\n",
            "\u001b[2K     \u001b[90m━━━━━━━━━━━━━━━━━━━━━━━━━━━━━━━━━━━━━━━━\u001b[0m \u001b[32m71.9/71.9 kB\u001b[0m \u001b[31m8.5 MB/s\u001b[0m eta \u001b[36m0:00:00\u001b[0m\n",
            "\u001b[?25hCollecting tensorboard==2.16.2 (from -r requirements.txt (line 51))\n",
            "  Downloading tensorboard-2.16.2-py3-none-any.whl (5.5 MB)\n",
            "\u001b[2K     \u001b[90m━━━━━━━━━━━━━━━━━━━━━━━━━━━━━━━━━━━━━━━━\u001b[0m \u001b[32m5.5/5.5 MB\u001b[0m \u001b[31m88.7 MB/s\u001b[0m eta \u001b[36m0:00:00\u001b[0m\n",
            "\u001b[?25hRequirement already satisfied: tensorboard-data-server==0.7.2 in /usr/local/lib/python3.10/dist-packages (from -r requirements.txt (line 52)) (0.7.2)\n",
            "Collecting tensorflow==2.16.1 (from -r requirements.txt (line 53))\n",
            "  Downloading tensorflow-2.16.1-cp310-cp310-manylinux_2_17_x86_64.manylinux2014_x86_64.whl (589.8 MB)\n",
            "\u001b[2K     \u001b[90m━━━━━━━━━━━━━━━━━━━━━━━━━━━━━━━━━━━━━━━━\u001b[0m \u001b[32m589.8/589.8 MB\u001b[0m \u001b[31m1.2 MB/s\u001b[0m eta \u001b[36m0:00:00\u001b[0m\n",
            "\u001b[?25hRequirement already satisfied: tensorflow-io-gcs-filesystem==0.36.0 in /usr/local/lib/python3.10/dist-packages (from -r requirements.txt (line 54)) (0.36.0)\n",
            "Requirement already satisfied: termcolor==2.4.0 in /usr/local/lib/python3.10/dist-packages (from -r requirements.txt (line 55)) (2.4.0)\n",
            "Requirement already satisfied: typing_extensions==4.11.0 in /usr/local/lib/python3.10/dist-packages (from -r requirements.txt (line 56)) (4.11.0)\n",
            "Requirement already satisfied: tzdata==2024.1 in /usr/local/lib/python3.10/dist-packages (from -r requirements.txt (line 57)) (2024.1)\n",
            "Collecting urllib3==2.2.1 (from -r requirements.txt (line 58))\n",
            "  Downloading urllib3-2.2.1-py3-none-any.whl (121 kB)\n",
            "\u001b[2K     \u001b[90m━━━━━━━━━━━━━━━━━━━━━━━━━━━━━━━━━━━━━━━━\u001b[0m \u001b[32m121.1/121.1 kB\u001b[0m \u001b[31m11.4 MB/s\u001b[0m eta \u001b[36m0:00:00\u001b[0m\n",
            "\u001b[?25hCollecting uvicorn==0.29.0 (from -r requirements.txt (line 59))\n",
            "  Downloading uvicorn-0.29.0-py3-none-any.whl (60 kB)\n",
            "\u001b[2K     \u001b[90m━━━━━━━━━━━━━━━━━━━━━━━━━━━━━━━━━━━━━━━━\u001b[0m \u001b[32m60.8/60.8 kB\u001b[0m \u001b[31m6.5 MB/s\u001b[0m eta \u001b[36m0:00:00\u001b[0m\n",
            "\u001b[?25hRequirement already satisfied: Werkzeug==3.0.2 in /usr/local/lib/python3.10/dist-packages (from -r requirements.txt (line 60)) (3.0.2)\n",
            "Collecting wrapt==1.16.0 (from -r requirements.txt (line 61))\n",
            "  Downloading wrapt-1.16.0-cp310-cp310-manylinux_2_5_x86_64.manylinux1_x86_64.manylinux_2_17_x86_64.manylinux2014_x86_64.whl (80 kB)\n",
            "\u001b[2K     \u001b[90m━━━━━━━━━━━━━━━━━━━━━━━━━━━━━━━━━━━━━━━━\u001b[0m \u001b[32m80.3/80.3 kB\u001b[0m \u001b[31m3.7 MB/s\u001b[0m eta \u001b[36m0:00:00\u001b[0m\n",
            "\u001b[?25hRequirement already satisfied: exceptiongroup>=1.0.2 in /usr/local/lib/python3.10/dist-packages (from anyio==4.3.0->-r requirements.txt (line 4)) (1.2.0)\n",
            "Requirement already satisfied: wheel<1.0,>=0.23.0 in /usr/local/lib/python3.10/dist-packages (from astunparse==1.6.3->-r requirements.txt (line 5)) (0.43.0)\n",
            "Requirement already satisfied: setuptools>=41.0.0 in /usr/local/lib/python3.10/dist-packages (from tensorboard==2.16.2->-r requirements.txt (line 51)) (67.7.2)\n",
            "Building wheels for collected packages: scikit-fuzzy\n",
            "  Building wheel for scikit-fuzzy (setup.py) ... \u001b[?25l\u001b[?25hdone\n",
            "  Created wheel for scikit-fuzzy: filename=scikit_fuzzy-0.4.2-py3-none-any.whl size=894078 sha256=9edaadc3bb2a80ba38a96be740e8d778bcb4ae98450787f1c793ee6f9f9d4b9c\n",
            "  Stored in directory: /root/.cache/pip/wheels/4f/86/1b/dfd97134a2c8313e519bcebd95d3fedc7be7944db022094bc8\n",
            "Successfully built scikit-fuzzy\n",
            "Installing collected packages: pytz, namex, wrapt, urllib3, python-dateutil, Pygments, pydantic_core, protobuf, pillow, optree, numpy, idna, h11, absl-py, uvicorn, tensorboard, scipy, pydantic, pandas, ml-dtypes, h5py, anyio, starlette, scikit-fuzzy, matplotlib, keras, tensorflow, fastapi\n",
            "  Attempting uninstall: pytz\n",
            "    Found existing installation: pytz 2023.4\n",
            "    Uninstalling pytz-2023.4:\n",
            "      Successfully uninstalled pytz-2023.4\n",
            "  Attempting uninstall: wrapt\n",
            "    Found existing installation: wrapt 1.14.1\n",
            "    Uninstalling wrapt-1.14.1:\n",
            "      Successfully uninstalled wrapt-1.14.1\n",
            "  Attempting uninstall: urllib3\n",
            "    Found existing installation: urllib3 2.0.7\n",
            "    Uninstalling urllib3-2.0.7:\n",
            "      Successfully uninstalled urllib3-2.0.7\n",
            "  Attempting uninstall: python-dateutil\n",
            "    Found existing installation: python-dateutil 2.8.2\n",
            "    Uninstalling python-dateutil-2.8.2:\n",
            "      Successfully uninstalled python-dateutil-2.8.2\n",
            "  Attempting uninstall: Pygments\n",
            "    Found existing installation: Pygments 2.16.1\n",
            "    Uninstalling Pygments-2.16.1:\n",
            "      Successfully uninstalled Pygments-2.16.1\n",
            "  Attempting uninstall: pydantic_core\n",
            "    Found existing installation: pydantic_core 2.16.3\n",
            "    Uninstalling pydantic_core-2.16.3:\n",
            "      Successfully uninstalled pydantic_core-2.16.3\n",
            "  Attempting uninstall: protobuf\n",
            "    Found existing installation: protobuf 3.20.3\n",
            "    Uninstalling protobuf-3.20.3:\n",
            "      Successfully uninstalled protobuf-3.20.3\n",
            "  Attempting uninstall: pillow\n",
            "    Found existing installation: Pillow 9.4.0\n",
            "    Uninstalling Pillow-9.4.0:\n",
            "      Successfully uninstalled Pillow-9.4.0\n",
            "  Attempting uninstall: numpy\n",
            "    Found existing installation: numpy 1.25.2\n",
            "    Uninstalling numpy-1.25.2:\n",
            "      Successfully uninstalled numpy-1.25.2\n",
            "  Attempting uninstall: idna\n",
            "    Found existing installation: idna 3.6\n",
            "    Uninstalling idna-3.6:\n",
            "      Successfully uninstalled idna-3.6\n",
            "  Attempting uninstall: absl-py\n",
            "    Found existing installation: absl-py 1.4.0\n",
            "    Uninstalling absl-py-1.4.0:\n",
            "      Successfully uninstalled absl-py-1.4.0\n",
            "  Attempting uninstall: tensorboard\n",
            "    Found existing installation: tensorboard 2.15.2\n",
            "    Uninstalling tensorboard-2.15.2:\n",
            "      Successfully uninstalled tensorboard-2.15.2\n",
            "  Attempting uninstall: scipy\n",
            "    Found existing installation: scipy 1.11.4\n",
            "    Uninstalling scipy-1.11.4:\n",
            "      Successfully uninstalled scipy-1.11.4\n",
            "  Attempting uninstall: pydantic\n",
            "    Found existing installation: pydantic 2.6.4\n",
            "    Uninstalling pydantic-2.6.4:\n",
            "      Successfully uninstalled pydantic-2.6.4\n",
            "  Attempting uninstall: pandas\n",
            "    Found existing installation: pandas 2.0.3\n",
            "    Uninstalling pandas-2.0.3:\n",
            "      Successfully uninstalled pandas-2.0.3\n",
            "  Attempting uninstall: ml-dtypes\n",
            "    Found existing installation: ml-dtypes 0.2.0\n",
            "    Uninstalling ml-dtypes-0.2.0:\n",
            "      Successfully uninstalled ml-dtypes-0.2.0\n",
            "  Attempting uninstall: h5py\n",
            "    Found existing installation: h5py 3.9.0\n",
            "    Uninstalling h5py-3.9.0:\n",
            "      Successfully uninstalled h5py-3.9.0\n",
            "  Attempting uninstall: anyio\n",
            "    Found existing installation: anyio 3.7.1\n",
            "    Uninstalling anyio-3.7.1:\n",
            "      Successfully uninstalled anyio-3.7.1\n",
            "  Attempting uninstall: matplotlib\n",
            "    Found existing installation: matplotlib 3.7.1\n",
            "    Uninstalling matplotlib-3.7.1:\n",
            "      Successfully uninstalled matplotlib-3.7.1\n",
            "  Attempting uninstall: keras\n",
            "    Found existing installation: keras 2.15.0\n",
            "    Uninstalling keras-2.15.0:\n",
            "      Successfully uninstalled keras-2.15.0\n",
            "  Attempting uninstall: tensorflow\n",
            "    Found existing installation: tensorflow 2.15.0\n",
            "    Uninstalling tensorflow-2.15.0:\n",
            "      Successfully uninstalled tensorflow-2.15.0\n",
            "\u001b[31mERROR: pip's dependency resolver does not currently take into account all the packages that are installed. This behaviour is the source of the following dependency conflicts.\n",
            "ipython 7.34.0 requires jedi>=0.16, which is not installed.\n",
            "google-colab 1.0.0 requires pandas==2.0.3, but you have pandas 2.2.2 which is incompatible.\n",
            "imageio 2.31.6 requires pillow<10.1.0,>=8.3.2, but you have pillow 10.3.0 which is incompatible.\n",
            "jupyter-server 1.24.0 requires anyio<4,>=3.1.0, but you have anyio 4.3.0 which is incompatible.\n",
            "tensorflow-metadata 1.14.0 requires absl-py<2.0.0,>=0.9, but you have absl-py 2.1.0 which is incompatible.\n",
            "tensorflow-metadata 1.14.0 requires protobuf<4.21,>=3.20.3, but you have protobuf 4.25.3 which is incompatible.\n",
            "tf-keras 2.15.1 requires tensorflow<2.16,>=2.15, but you have tensorflow 2.16.1 which is incompatible.\u001b[0m\u001b[31m\n",
            "\u001b[0mSuccessfully installed Pygments-2.17.2 absl-py-2.1.0 anyio-4.3.0 fastapi-0.110.1 h11-0.14.0 h5py-3.11.0 idna-3.7 keras-3.2.1 matplotlib-3.8.4 ml-dtypes-0.3.2 namex-0.0.7 numpy-1.26.4 optree-0.11.0 pandas-2.2.2 pillow-10.3.0 protobuf-4.25.3 pydantic-2.7.0 pydantic_core-2.18.1 python-dateutil-2.9.0.post0 pytz-2024.1 scikit-fuzzy-0.4.2 scipy-1.13.0 starlette-0.37.2 tensorboard-2.16.2 tensorflow-2.16.1 urllib3-2.2.1 uvicorn-0.29.0 wrapt-1.16.0\n"
          ]
        },
        {
          "output_type": "display_data",
          "data": {
            "application/vnd.colab-display-data+json": {
              "pip_warning": {
                "packages": [
                  "PIL",
                  "dateutil",
                  "matplotlib",
                  "mpl_toolkits"
                ]
              },
              "id": "72190beec5014fc691b6bfb298142bac"
            }
          },
          "metadata": {}
        }
      ]
    },
    {
      "cell_type": "code",
      "source": [
        "#Instalando o debugger\n",
        "!pip install snoop\n",
        "%load_ext snoop"
      ],
      "metadata": {
        "colab": {
          "base_uri": "https://localhost:8080/"
        },
        "id": "_ni1p_3Gzkab",
        "outputId": "40731218-36b9-4412-b36b-0d32337964b4"
      },
      "execution_count": 1,
      "outputs": [
        {
          "output_type": "stream",
          "name": "stdout",
          "text": [
            "Collecting snoop\n",
            "  Downloading snoop-0.4.3-py2.py3-none-any.whl (27 kB)\n",
            "Requirement already satisfied: six in /usr/local/lib/python3.10/dist-packages (from snoop) (1.16.0)\n",
            "Collecting cheap-repr>=0.4.0 (from snoop)\n",
            "  Downloading cheap_repr-0.5.1-py2.py3-none-any.whl (12 kB)\n",
            "Collecting executing (from snoop)\n",
            "  Downloading executing-2.0.1-py2.py3-none-any.whl (24 kB)\n",
            "Collecting asttokens (from snoop)\n",
            "  Downloading asttokens-2.4.1-py2.py3-none-any.whl (27 kB)\n",
            "Requirement already satisfied: pygments in /usr/local/lib/python3.10/dist-packages (from snoop) (2.17.2)\n",
            "Installing collected packages: cheap-repr, executing, asttokens, snoop\n",
            "Successfully installed asttokens-2.4.1 cheap-repr-0.5.1 executing-2.0.1 snoop-0.4.3\n"
          ]
        }
      ]
    },
    {
      "cell_type": "code",
      "source": [
        "#Instalando as libs base\n",
        "import os\n",
        "import numpy as np\n",
        "import pandas as pd\n",
        "from sklearn.model_selection import train_test_split\n",
        "from sklearn.metrics import accuracy_score\n",
        "import matplotlib.pyplot as plt\n",
        "import matplotlib\n",
        "import itertools\n",
        "\n",
        "#Instalando as libs de fuzzy models\n",
        "import skfuzzy as fuzz\n",
        "from skfuzzy import control as ctrl\n",
        "\n",
        "\n",
        "matplotlib.use('Agg')"
      ],
      "metadata": {
        "id": "9aa9f8daD3oH"
      },
      "execution_count": 2,
      "outputs": []
    },
    {
      "cell_type": "code",
      "source": [
        "import logging\n",
        "\n",
        "logging.basicConfig(level=logging.DEBUG)\n",
        "logger = logging.getLogger(__name__)"
      ],
      "metadata": {
        "id": "AzR0TyYZaEud"
      },
      "execution_count": 3,
      "outputs": []
    },
    {
      "cell_type": "code",
      "source": [
        "'''\n",
        "Criamos uma variável de saída (consequente) para um sistema de inferência fuzzy. Essa função recebe dois argumentos:\n",
        "O primeiro argumento é um array NumPy que define o universo de discurso da variável de saída. No exemplo dado, np.arange(0, 11, 1) cria um array contendo os valores inteiros de 0 a 10 (inclusive), com um passo de 1. Isso significa que a variável de saída \"Risco\" pode assumir valores inteiros de 0 a 10.\n",
        "O segundo argumento é uma string que representa o nome da variável de saída. No exemplo, o nome da variável é \"Risco\".\n",
        "'''\n",
        "risco = ctrl.Consequent(np.arange(0, 11, 1), 'Risco')\n",
        "risco.automf(3, names=['baixo', 'medio', 'alto'])\n",
        "\n",
        "risco['Baixo'] = fuzz.trimf(risco.universe, [0, 0, 5])\n",
        "risco['Medio'] = fuzz.trimf(risco.universe, [0, 5, 8])\n",
        "risco['Alto'] = fuzz.trimf(risco.universe, [5, 8, 10])"
      ],
      "metadata": {
        "id": "_B35-y6zEYpY"
      },
      "execution_count": 4,
      "outputs": []
    },
    {
      "cell_type": "code",
      "source": [
        "# Objeto de Antecedent para as variáveis de entradas\n",
        "idade = ctrl.Antecedent(np.arange(0, 101, 1), 'idade')\n",
        "sexo = ctrl.Antecedent(np.arange(2), 'sexo')\n",
        "gravidade_doenca = ctrl.Antecedent(np.arange(0, 101, 1), 'gravidade_doenca')\n",
        "nivel_renda = ctrl.Antecedent(np.arange(0, 101, 1), 'nível_renda')\n",
        "distancia_hospital = ctrl.Antecedent(np.arange(0, 101, 1), 'distancia_hospital')\n",
        "frequencia_consulta = ctrl.Antecedent(np.arange(0, 101, 1), 'frequencia_consulta')\n",
        "facilidade_transporte = ctrl.Antecedent(np.arange(0, 101, 1), 'facilidade_transporte')\n",
        "apoio_familiar = ctrl.Antecedent(np.arange(0, 101, 1), 'apoio_familiar')"
      ],
      "metadata": {
        "id": "NC7xkM9hy-vD"
      },
      "execution_count": 5,
      "outputs": []
    },
    {
      "cell_type": "code",
      "source": [
        "# Funções de pertinência\n",
        "\n",
        "idade.automf(7, names=['Adolescente', 'Jovem','Meia-idade-inicial','Meia-idade-tardia', 'Idoso-jovem','Idoso-velho','Idoso-noe'])\n",
        "\n",
        "sexo.automf(2, names=['Masculino', 'Feminino'])\n",
        "gravidade_doenca.automf(3, names=['Leve', 'Moderada', 'Grave'])\n",
        "nivel_renda.automf(3, names=['Baixa', 'Media', 'Alta'])\n",
        "distancia_hospital.automf(3, names=['Proximo', 'Media', 'Longe'])\n",
        "frequencia_consulta.automf(3, names=['Boa', 'Regular', 'Ruim'])\n",
        "facilidade_transporte.automf(3, names=['Bom', 'Regular', 'Ruim'])\n",
        "apoio_familiar.automf(3, names=['Bom', 'Regular', 'Ruim'])\n"
      ],
      "metadata": {
        "id": "p1elaeLrzIkb"
      },
      "execution_count": 6,
      "outputs": []
    },
    {
      "cell_type": "code",
      "source": [
        "# Verificar se todas as variáveis estão definidas corretamente\n",
        "print(idade.terms)\n",
        "print(gravidade_doenca.terms)\n",
        "print(distancia_hospital.terms)\n",
        "print(nivel_renda.terms)\n",
        "print(frequencia_consulta.terms)\n",
        "print(facilidade_transporte.terms)\n",
        "print(apoio_familiar.terms)\n",
        "print(risco.terms)"
      ],
      "metadata": {
        "colab": {
          "base_uri": "https://localhost:8080/"
        },
        "id": "YqtRQzlwIFm3",
        "outputId": "06507167-d5a9-4bf7-e53f-3ab73ea2e9c1"
      },
      "execution_count": 7,
      "outputs": [
        {
          "output_type": "stream",
          "name": "stdout",
          "text": [
            "OrderedDict([('Adolescente', idade[Adolescente]), ('Jovem', idade[Jovem]), ('Meia-idade-inicial', idade[Meia-idade-inicial]), ('Meia-idade-tardia', idade[Meia-idade-tardia]), ('Idoso-jovem', idade[Idoso-jovem]), ('Idoso-velho', idade[Idoso-velho]), ('Idoso-noe', idade[Idoso-noe])])\n",
            "OrderedDict([('Leve', gravidade_doenca[Leve]), ('Moderada', gravidade_doenca[Moderada]), ('Grave', gravidade_doenca[Grave])])\n",
            "OrderedDict([('Proximo', distancia_hospital[Proximo]), ('Media', distancia_hospital[Media]), ('Longe', distancia_hospital[Longe])])\n",
            "OrderedDict([('Baixa', nível_renda[Baixa]), ('Media', nível_renda[Media]), ('Alta', nível_renda[Alta])])\n",
            "OrderedDict([('Boa', frequencia_consulta[Boa]), ('Regular', frequencia_consulta[Regular]), ('Ruim', frequencia_consulta[Ruim])])\n",
            "OrderedDict([('Bom', facilidade_transporte[Bom]), ('Regular', facilidade_transporte[Regular]), ('Ruim', facilidade_transporte[Ruim])])\n",
            "OrderedDict([('Bom', apoio_familiar[Bom]), ('Regular', apoio_familiar[Regular]), ('Ruim', apoio_familiar[Ruim])])\n",
            "OrderedDict([('baixo', Risco[baixo]), ('medio', Risco[medio]), ('alto', Risco[alto]), ('Baixo', Risco[Baixo]), ('Medio', Risco[Medio]), ('Alto', Risco[Alto])])\n"
          ]
        }
      ]
    },
    {
      "cell_type": "code",
      "source": [
        "# Definir funções de pertinência difusas para cobrir melhor o espaço de entrada\n",
        "\n",
        "# Ajustar as funções de pertinência\n",
        "idade['Adolescente'] = fuzz.trapmf(idade.universe, [0, 0, 13, 19])\n",
        "idade['Jovem'] = fuzz.trapmf(idade.universe, [13, 19, 20, 39])\n",
        "idade['Meia-idade-inicial'] = fuzz.trapmf(idade.universe, [20, 39, 40, 50])\n",
        "idade['Meia-idade-tardia'] = fuzz.trapmf(idade.universe, [40, 50, 51, 60])\n",
        "idade['Idoso-jovem'] = fuzz.trapmf(idade.universe, [51, 60, 61, 74])\n",
        "idade['Idoso-velho'] = fuzz.trapmf(idade.universe, [61, 74, 75, 100])\n",
        "idade['Idoso-noe'] = fuzz.trapmf(idade.universe, [75, 100, 101, 150])\n",
        "\n",
        "'''\n",
        "Jovem:\n",
        "\n",
        "Adolescente: 13 a 19 anos\n",
        "Jovem: 15 a 24 anos\n",
        "Jovem adulto:\n",
        "\n",
        "Meia-idade inicial: 40 a 50 anos\n",
        "Meia-idade tardia: 50 a 60 anos\n",
        "\n",
        "18 a 35 anos (às vezes até 40 anos)\n",
        "Idoso:\n",
        "\n",
        "Idoso jovem: 60 ou 65 a 74 anos\n",
        "Idoso: 75 a 84 anos\n",
        "Idoso mais velho: 85 anos ou mais\n",
        "'''\n",
        "\n",
        "nivel_renda['Baixa'] = fuzz.trapmf(nivel_renda.universe, [0, 0, 300, 4000])\n",
        "nivel_renda['Media'] = fuzz.trapmf(nivel_renda.universe, [300, 4000, 4001, 15000])\n",
        "nivel_renda['Alta'] = fuzz.trapmf(nivel_renda.universe, [4001, 15000, 15001, 100000])\n",
        "\n",
        "\n",
        "apoio_familiar['Boa'] = fuzz.trapmf(apoio_familiar.universe, [70, 90, 100, 100])\n",
        "apoio_familiar['Regular'] = fuzz.trapmf(apoio_familiar.universe, [30, 50, 70, 90])\n",
        "apoio_familiar['Ruim'] = fuzz.trapmf(apoio_familiar.universe, [0, 0, 30, 50])\n",
        "\n",
        "facilidade_transporte['Bom'] = fuzz.trapmf(apoio_familiar.universe, [70, 90, 100, 100])\n",
        "facilidade_transporte['Regular'] = fuzz.trapmf(apoio_familiar.universe, [30, 50, 70, 90])\n",
        "facilidade_transporte['Ruim'] = fuzz.trapmf(apoio_familiar.universe, [0, 0, 30, 50])\n",
        "\n",
        "frequencia_consulta['Boa'] = fuzz.trapmf(frequencia_consulta.universe, [70, 90, 100, 100])\n",
        "frequencia_consulta['Regular'] = fuzz.trapmf(frequencia_consulta.universe, [30, 50, 70, 90])\n",
        "frequencia_consulta['Ruim'] = fuzz.trapmf(frequencia_consulta.universe, [0, 0, 30, 50])\n",
        "\n",
        "gravidade_doenca['Leve'] = fuzz.trapmf(frequencia_consulta.universe, [0, 0, 30, 50])\n",
        "gravidade_doenca['Moderada'] = fuzz.trapmf(frequencia_consulta.universe, [30, 50, 70, 90])\n",
        "gravidade_doenca['Grave'] = fuzz.trapmf(frequencia_consulta.universe, [70, 90, 100, 100])\n"
      ],
      "metadata": {
        "id": "yFbjqfEwPKmZ"
      },
      "execution_count": 8,
      "outputs": []
    },
    {
      "cell_type": "code",
      "source": [
        "\n",
        "# Definindo as regras difusas\n",
        "regra1 = ctrl.Rule(idade['Idoso-jovem'] & sexo['Masculino'] & (gravidade_doenca['Leve'] | gravidade_doenca['Moderada']) & distancia_hospital['Longe'], risco['Alto'])\n",
        "regra2 = ctrl.Rule(idade['Idoso-jovem'] & sexo['Feminino'] & (gravidade_doenca['Grave'] | gravidade_doenca['Moderada']) & distancia_hospital['Proximo'], risco['Baixo'])\n",
        "regra3 = ctrl.Rule(idade['Idoso-velho'] & sexo['Masculino'] & (gravidade_doenca['Leve'] | gravidade_doenca['Moderada']) & distancia_hospital['Longe'], risco['Alto'])\n",
        "regra4 = ctrl.Rule(idade['Idoso-noe'] & sexo['Feminino'] & gravidade_doenca['Moderada'] & frequencia_consulta['Regular'], risco['Baixo'])\n",
        "regra5 = ctrl.Rule(idade['Idoso-noe'] & gravidade_doenca['Moderada'] & frequencia_consulta['Boa'] & facilidade_transporte['Ruim'] & apoio_familiar['Ruim'], risco['Alto'])\n",
        "regra6 = ctrl.Rule(nivel_renda['Baixa'] & frequencia_consulta['Ruim'], risco['Alto'])\n",
        "regra7 = ctrl.Rule(idade['Jovem'] & gravidade_doenca['Leve'] & distancia_hospital['Proximo'], risco['Baixo'])\n",
        "regra8 = ctrl.Rule(nivel_renda['Alta'] & frequencia_consulta['Boa'], risco['Baixo'])\n",
        "regra9 = ctrl.Rule(idade['Meia-idade-inicial'] & gravidade_doenca['Moderada'] & distancia_hospital['Media'] & frequencia_consulta['Regular'], risco['Medio'])\n",
        "regra10 = ctrl.Rule(idade['Jovem'] & gravidade_doenca['Leve'] & distancia_hospital['Longe'] & nivel_renda['Media'], risco['Medio'])\n",
        "regra11 = ctrl.Rule(idade['Meia-idade-inicial'] & gravidade_doenca['Leve'] & distancia_hospital['Media'] & nivel_renda['Media'], risco['Medio'])\n",
        "regra12 = ctrl.Rule(idade['Jovem'] & gravidade_doenca['Moderada'] & frequencia_consulta['Boa'], risco['Medio'])\n",
        "regra13 = ctrl.Rule(idade['Jovem'] & gravidade_doenca['Moderada'] & frequencia_consulta['Boa'] & facilidade_transporte['Ruim'], risco['Alto'])\n"
      ],
      "metadata": {
        "id": "K_ibDaC_7Qg-"
      },
      "execution_count": 9,
      "outputs": []
    },
    {
      "cell_type": "code",
      "source": [],
      "metadata": {
        "id": "jTTVCMJo7vq_"
      },
      "execution_count": null,
      "outputs": []
    },
    {
      "cell_type": "code",
      "source": [
        "sistema_controle = ctrl.ControlSystem()\n",
        "\n",
        "# Criar o sistema de controle difuso com as regras\n",
        "sistema_controle = ctrl.ControlSystem([regra1, regra2, regra3, regra4, regra5, regra6, regra7, regra8, regra9, regra10, regra11, regra12, regra13])\n"
      ],
      "metadata": {
        "id": "y9CzyH8f7_qc"
      },
      "execution_count": 10,
      "outputs": []
    },
    {
      "cell_type": "code",
      "source": [
        "# Verificar as regras do sistema de controle difuso\n",
        "print(sistema_controle.rules)"
      ],
      "metadata": {
        "colab": {
          "base_uri": "https://localhost:8080/"
        },
        "id": "RYHDK_dwHVVk",
        "outputId": "c4ebe041-b178-4b4b-cc08-e33441e67821"
      },
      "execution_count": 11,
      "outputs": [
        {
          "output_type": "stream",
          "name": "stdout",
          "text": [
            "<skfuzzy.control.controlsystem.RuleOrderGenerator object at 0x7df1978a1750>\n"
          ]
        }
      ]
    },
    {
      "cell_type": "code",
      "source": [
        "# Imprimir as regras\n",
        "print(\"Regra 1:\", regra1)\n",
        "print(\"Regra 2:\", regra2)\n",
        "print(\"Regra 3:\", regra3)\n",
        "print(\"Regra 4:\", regra4)\n",
        "print(\"Regra 5:\", regra5)\n",
        "print(\"Regra 6:\", regra6)\n",
        "print(\"Regra 7:\", regra7)\n",
        "print(\"Regra 8:\", regra8)\n",
        "print(\"Regra 9:\", regra9)\n",
        "print(\"Regra 10:\", regra10)\n",
        "print(\"Regra 11:\", regra11)\n",
        "print(\"Regra 12:\", regra12)\n",
        "print(\"Regra 13:\", regra13)"
      ],
      "metadata": {
        "colab": {
          "base_uri": "https://localhost:8080/"
        },
        "id": "R9h5FqnbHywp",
        "outputId": "ff8e5eb2-359b-4ee4-dd71-c14db2bc0c13"
      },
      "execution_count": 12,
      "outputs": [
        {
          "output_type": "stream",
          "name": "stdout",
          "text": [
            "Regra 1: IF ((idade[Idoso-jovem] AND sexo[Masculino]) AND (gravidade_doenca[Leve] OR gravidade_doenca[Moderada])) AND distancia_hospital[Longe] THEN Risco[Alto]\n",
            "\tAND aggregation function : fmin\n",
            "\tOR aggregation function  : fmax\n",
            "Regra 2: IF ((idade[Idoso-jovem] AND sexo[Feminino]) AND (gravidade_doenca[Grave] OR gravidade_doenca[Moderada])) AND distancia_hospital[Proximo] THEN Risco[Baixo]\n",
            "\tAND aggregation function : fmin\n",
            "\tOR aggregation function  : fmax\n",
            "Regra 3: IF ((idade[Idoso-velho] AND sexo[Masculino]) AND (gravidade_doenca[Leve] OR gravidade_doenca[Moderada])) AND distancia_hospital[Longe] THEN Risco[Alto]\n",
            "\tAND aggregation function : fmin\n",
            "\tOR aggregation function  : fmax\n",
            "Regra 4: IF ((idade[Idoso-noe] AND sexo[Feminino]) AND gravidade_doenca[Moderada]) AND frequencia_consulta[Regular] THEN Risco[Baixo]\n",
            "\tAND aggregation function : fmin\n",
            "\tOR aggregation function  : fmax\n",
            "Regra 5: IF (((idade[Idoso-noe] AND gravidade_doenca[Moderada]) AND frequencia_consulta[Boa]) AND facilidade_transporte[Ruim]) AND apoio_familiar[Ruim] THEN Risco[Alto]\n",
            "\tAND aggregation function : fmin\n",
            "\tOR aggregation function  : fmax\n",
            "Regra 6: IF nível_renda[Baixa] AND frequencia_consulta[Ruim] THEN Risco[Alto]\n",
            "\tAND aggregation function : fmin\n",
            "\tOR aggregation function  : fmax\n",
            "Regra 7: IF (idade[Jovem] AND gravidade_doenca[Leve]) AND distancia_hospital[Proximo] THEN Risco[Baixo]\n",
            "\tAND aggregation function : fmin\n",
            "\tOR aggregation function  : fmax\n",
            "Regra 8: IF nível_renda[Alta] AND frequencia_consulta[Boa] THEN Risco[Baixo]\n",
            "\tAND aggregation function : fmin\n",
            "\tOR aggregation function  : fmax\n",
            "Regra 9: IF ((idade[Meia-idade-inicial] AND gravidade_doenca[Moderada]) AND distancia_hospital[Media]) AND frequencia_consulta[Regular] THEN Risco[Medio]\n",
            "\tAND aggregation function : fmin\n",
            "\tOR aggregation function  : fmax\n",
            "Regra 10: IF ((idade[Jovem] AND gravidade_doenca[Leve]) AND distancia_hospital[Longe]) AND nível_renda[Media] THEN Risco[Medio]\n",
            "\tAND aggregation function : fmin\n",
            "\tOR aggregation function  : fmax\n",
            "Regra 11: IF ((idade[Meia-idade-inicial] AND gravidade_doenca[Leve]) AND distancia_hospital[Media]) AND nível_renda[Media] THEN Risco[Medio]\n",
            "\tAND aggregation function : fmin\n",
            "\tOR aggregation function  : fmax\n",
            "Regra 12: IF (idade[Jovem] AND gravidade_doenca[Moderada]) AND frequencia_consulta[Boa] THEN Risco[Medio]\n",
            "\tAND aggregation function : fmin\n",
            "\tOR aggregation function  : fmax\n",
            "Regra 13: IF ((idade[Jovem] AND gravidade_doenca[Moderada]) AND frequencia_consulta[Boa]) AND facilidade_transporte[Ruim] THEN Risco[Alto]\n",
            "\tAND aggregation function : fmin\n",
            "\tOR aggregation function  : fmax\n"
          ]
        }
      ]
    },
    {
      "cell_type": "code",
      "source": [
        "# Criar a simulação do sistema difuso\n",
        "simulacao = ctrl.ControlSystemSimulation(sistema_controle)\n",
        "#absenteismo_sim = ctrl.ControlSystemSimulation(sistema_controle)\n",
        "sistema_controle.view()"
      ],
      "metadata": {
        "id": "p5wDKTlgHYBz"
      },
      "execution_count": 13,
      "outputs": []
    },
    {
      "cell_type": "code",
      "source": [
        "# Configuração das entradas para teste\n",
        "simulacao.input['idade'] = 90\n",
        "simulacao.input['sexo'] = 1\n",
        "simulacao.input['gravidade_doenca'] = 70\n",
        "simulacao.input['nível_renda'] = 80\n",
        "simulacao.input['distancia_hospital'] = 1\n",
        "simulacao.input['frequencia_consulta'] = 90\n",
        "simulacao.input['facilidade_transporte'] = 10\n",
        "simulacao.input['apoio_familiar'] = 40"
      ],
      "metadata": {
        "id": "GvGbl82WIyjJ"
      },
      "execution_count": 14,
      "outputs": []
    },
    {
      "cell_type": "code",
      "source": [
        "# Criar e Executar a simulação do sistema difuso\n",
        "%%snoop\n",
        "\n",
        "try:\n",
        "    simulacao.compute()\n",
        "except (ValueError, TypeError) as e:\n",
        "    logger.error(f\"Falha na computação do sistema de controle difuso\")\n",
        "    logger.error(f\"Mensagem de erro: {str(e)}\")\n"
      ],
      "metadata": {
        "id": "SIz5exuMJwxa",
        "colab": {
          "base_uri": "https://localhost:8080/"
        },
        "outputId": "b18c594b-118d-4ee2-8027-6cb0a286b434"
      },
      "execution_count": 15,
      "outputs": [
        {
          "output_type": "stream",
          "name": "stderr",
          "text": [
            "\n",
            "PYDEV DEBUGGER WARNING:\n",
            "sys.settrace() should not be used when the debugger is being used.\n",
            "This may cause the debugger to stop working correctly.\n",
            "If this is needed, please check: \n",
            "http://pydev.blogspot.com/2007/06/why-cant-pydev-debugger-work-with.html\n",
            "to see how to restore the debug tracing back correctly.\n",
            "Call Location:\n",
            "  File \"/usr/local/lib/python3.10/dist-packages/snoop/tracer.py\", line 210, in __enter__\n",
            "    sys.settrace(self.trace)\n",
            "\n",
            "14:25:18.03 ...... logger = <Logger __main__ (WARNING)>\n",
            "14:25:18.03 ...... simulacao = <skfuzzy.control.controlsystem.ControlSystemSimulation object at 0x7df1978a1720>\n",
            "14:25:18.04    2 | try:\n",
            "14:25:18.04    3 |     simulacao.compute()\n",
            "\n",
            "PYDEV DEBUGGER WARNING:\n",
            "sys.settrace() should not be used when the debugger is being used.\n",
            "This may cause the debugger to stop working correctly.\n",
            "If this is needed, please check: \n",
            "http://pydev.blogspot.com/2007/06/why-cant-pydev-debugger-work-with.html\n",
            "to see how to restore the debug tracing back correctly.\n",
            "Call Location:\n",
            "  File \"/usr/local/lib/python3.10/dist-packages/snoop/tracer.py\", line 217, in __exit__\n",
            "    sys.settrace(previous_trace)\n",
            "\n"
          ]
        }
      ]
    },
    {
      "cell_type": "code",
      "source": [
        "# Exibição dos resultados\n",
        "print(f\"Risco de Absenteísmo: {simulacao.output['Risco']}\")\n",
        "risco.view(sim=simulacao)\n",
        "plt.savefig('resultado_absenteismo.png')"
      ],
      "metadata": {
        "colab": {
          "base_uri": "https://localhost:8080/"
        },
        "id": "77DxxuMtJy2f",
        "outputId": "e51ba5dc-fc5e-4a3a-b69a-204a033ce3dc"
      },
      "execution_count": 16,
      "outputs": [
        {
          "output_type": "stream",
          "name": "stdout",
          "text": [
            "Risco de Absenteísmo: 7.611111111111112\n"
          ]
        }
      ]
    },
    {
      "cell_type": "code",
      "source": [
        "#fim do exemplo basico"
      ],
      "metadata": {
        "id": "AJhpqHCB7727"
      },
      "execution_count": null,
      "outputs": []
    }
  ]
}